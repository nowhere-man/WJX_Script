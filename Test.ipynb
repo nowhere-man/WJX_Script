{
 "cells": [
  {
   "cell_type": "code",
   "execution_count": null,
   "metadata": {},
   "outputs": [],
   "source": [
    "import json\n",
    "\n",
    "class Config(object):\n",
    "    def __init__(self):\n",
    "        '''\n",
    "        :param id: 题号\n",
    "        :param type: 题目类型,Simple单选,Multiple多选,Sort排序,Scale量表,Gap填空\n",
    "        :param affected_id: 受影响选项的题号\n",
    "        :param probabilities: 题目选项的概率分布\n",
    "        '''\n",
    "        with open(\"config.json\") as f:\n",
    "            config = json.load(f)\n",
    "\n",
    "        self.batch = config[\"batch\"]\n",
    "        self.proxy = config[\"proxy\"]\n",
    "        self.questions = config[\"questions\"]\n",
    "\n",
    "question = Config()\n",
    "\n",
    "print(question.batch)\n",
    "print(question.proxy)\n",
    "print(question.questions)"
   ]
  }
 ],
 "metadata": {
  "kernelspec": {
   "display_name": "Python 3",
   "language": "python",
   "name": "python3"
  },
  "language_info": {
   "codemirror_mode": {
    "name": "ipython",
    "version": 3
   },
   "file_extension": ".py",
   "mimetype": "text/x-python",
   "name": "python",
   "nbconvert_exporter": "python",
   "pygments_lexer": "ipython3",
   "version": "3.12.5"
  }
 },
 "nbformat": 4,
 "nbformat_minor": 2
}
